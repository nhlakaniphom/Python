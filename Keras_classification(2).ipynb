{
  "nbformat": 4,
  "nbformat_minor": 0,
  "metadata": {
    "colab": {
      "name": "Keras_classification(2).ipynb",
      "version": "0.3.2",
      "provenance": [],
      "collapsed_sections": [],
      "toc_visible": true,
      "include_colab_link": true
    },
    "kernelspec": {
      "display_name": "Python 3",
      "language": "python",
      "name": "python3"
    },
    "accelerator": "TPU"
  },
  "cells": [
    {
      "cell_type": "markdown",
      "metadata": {
        "id": "view-in-github",
        "colab_type": "text"
      },
      "source": [
        "[View in Colaboratory](https://colab.research.google.com/github/nhlakaniphom/Python/blob/master/Keras_classification(2).ipynb)"
      ]
    },
    {
      "metadata": {
        "colab_type": "text",
        "id": "oc_X-7xw-8gb"
      },
      "cell_type": "markdown",
      "source": [
        "# Classification models"
      ]
    },
    {
      "metadata": {
        "colab_type": "code",
        "id": "D-fi5yoC-1Ma",
        "colab": {}
      },
      "cell_type": "code",
      "source": [
        "import numpy as np\n",
        "from keras.models import Sequential\n",
        "from keras.layers import Dense\n",
        "from keras.utils import to_categorical\n",
        "import pandas as pd"
      ],
      "execution_count": 0,
      "outputs": []
    },
    {
      "metadata": {
        "colab_type": "text",
        "id": "OOt4rjslAjoF"
      },
      "cell_type": "markdown",
      "source": [
        "The sinking of the RMS Titanic is one of the most infamous shipwrecks in history.  On April 15, 1912, during her maiden voyage, the Titanic sank after colliding with an iceberg, killing 1502 out of 2224 passengers and crew. This sensational tragedy shocked the international community and led to better safety regulations for ships.\n",
        "\n",
        "One of the reasons that the shipwreck led to such loss of life was that there were not enough lifeboats for the passengers and crew. Although there was some element of luck involved in surviving the sinking, some groups of people were more likely to survive than others, such as women, children, and the upper-class.\n",
        "\n",
        "In this challenge, we ask you to complete the analysis of what sorts of people were likely to survive. In particular, we ask you to apply the tools of machine learning to predict which passengers survived the tragedy.\n",
        "https://www.kaggle.com/c/titanic"
      ]
    },
    {
      "metadata": {
        "colab_type": "code",
        "id": "HWgdev0F_hAu",
        "colab": {}
      },
      "cell_type": "code",
      "source": [
        "dataset =pd.read_csv('titanic_all_numeric.csv')"
      ],
      "execution_count": 0,
      "outputs": []
    },
    {
      "metadata": {
        "colab_type": "code",
        "id": "Hd1JgCAfBcl4",
        "outputId": "dc7b5d35-8114-4d44-a541-eb525f16df6e",
        "colab": {}
      },
      "cell_type": "code",
      "source": [
        "dataset.head()"
      ],
      "execution_count": 0,
      "outputs": []
    },
    {
      "metadata": {
        "colab_type": "code",
        "id": "EU7l-yJ4CoWD",
        "colab": {}
      },
      "cell_type": "code",
      "source": [
        "target = to_categorical(dataset.survived)"
      ],
      "execution_count": 0,
      "outputs": []
    },
    {
      "metadata": {
        "colab_type": "code",
        "id": "UK9tP4J7Cyx3",
        "colab": {}
      },
      "cell_type": "code",
      "source": [
        "predictor = dataset.drop(['survived'],axis=1)"
      ],
      "execution_count": 0,
      "outputs": []
    },
    {
      "metadata": {
        "colab_type": "code",
        "id": "2rA2tGseDEu1",
        "colab": {}
      },
      "cell_type": "code",
      "source": [
        "n_cols = predictor.shape[1]"
      ],
      "execution_count": 0,
      "outputs": []
    },
    {
      "metadata": {
        "colab_type": "text",
        "id": "Zx1LoeTn_HUr"
      },
      "cell_type": "markdown",
      "source": [
        "* ‘categorical_crossentropy’ loss function\n",
        "* Similar to log loss: Lower is be!er\n",
        "* Add metrics = [‘accuracy’] to compile step for easy-tounderstand diagnostics\n",
        "* Output layer has separate node for each possible outcome, and uses ‘sofmax’ activation"
      ]
    },
    {
      "metadata": {
        "colab_type": "code",
        "id": "oDW7IYznC4uB",
        "colab": {}
      },
      "cell_type": "code",
      "source": [
        "# Set up the model\n",
        "model = Sequential()\n",
        "\n",
        "# Add the first layer\n",
        "model.add(Dense(32,activation='relu', input_shape=(n_cols,) ))\n",
        "\n",
        "# Add the output layer\n",
        "model.add(Dense(2, activation='softmax'))\n"
      ],
      "execution_count": 0,
      "outputs": []
    },
    {
      "metadata": {
        "colab_type": "code",
        "id": "dXnjjkPiDUQK",
        "outputId": "d9d7d668-f074-4500-9ae3-9126bdb41015",
        "colab": {}
      },
      "cell_type": "code",
      "source": [
        "# Compile the model\n",
        "model.compile(optimizer='sgd', loss='categorical_crossentropy',\n",
        "              metrics=['accuracy'] )\n",
        "\n",
        "# Fit the model\n",
        "model.fit(predictor, target, epochs=20)"
      ],
      "execution_count": 0,
      "outputs": []
    },
    {
      "metadata": {
        "id": "FSCOtuNHzl_j",
        "colab_type": "code",
        "colab": {}
      },
      "cell_type": "code",
      "source": [
        ""
      ],
      "execution_count": 0,
      "outputs": []
    },
    {
      "metadata": {
        "colab_type": "code",
        "id": "KEFSZ9NGEmBn",
        "colab": {}
      },
      "cell_type": "code",
      "source": [
        "model.fit(predictor, target , epochs=20)"
      ],
      "execution_count": 0,
      "outputs": []
    },
    {
      "metadata": {
        "colab_type": "text",
        "id": "dmcnBQNoDw4k"
      },
      "cell_type": "markdown",
      "source": [
        "# Using models\n",
        "* Save\n",
        "* Reload\n",
        "* Make predictions"
      ]
    },
    {
      "metadata": {
        "colab_type": "code",
        "id": "qf9k3lauFZk-",
        "colab": {}
      },
      "cell_type": "code",
      "source": [
        "data_to_predict_with = np.array([[2, 34.0, 0, 0, 13.0, 1, False, 0, 0, 1],\n",
        "       [2, 31.0, 1, 1, 26.25, 0, False, 0, 0, 1],\n",
        "       [1, 11.0, 1, 2, 120.0, 1, False, 0, 0, 1],\n",
        "       [3, 0.42, 0, 1, 8.5167, 1, False, 1, 0, 0],\n",
        "       [3, 27.0, 0, 0, 6.975, 1, False, 0, 0, 1],\n",
        "       [3, 31.0, 0, 0, 7.775, 1, False, 0, 0, 1],\n",
        "       [1, 39.0, 0, 0, 0.0, 1, False, 0, 0, 1],\n",
        "       [3, 18.0, 0, 0, 7.775, 0, False, 0, 0, 1],\n",
        "       [2, 39.0, 0, 0, 13.0, 1, False, 0, 0, 1],\n",
        "       [1, 33.0, 1, 0, 53.1, 0, False, 0, 0, 1],\n",
        "       [3, 26.0, 0, 0, 7.8875, 1, False, 0, 0, 1],\n",
        "       [3, 39.0, 0, 0, 24.15, 1, False, 0, 0, 1],\n",
        "       [2, 35.0, 0, 0, 10.5, 1, False, 0, 0, 1],\n",
        "       [3, 6.0, 4, 2, 31.275, 0, False, 0, 0, 1],\n",
        "       [3, 30.5, 0, 0, 8.05, 1, False, 0, 0, 1],\n",
        "       [1, 29.69911764705882, 0, 0, 0.0, 1, True, 0, 0, 1],\n",
        "       [3, 23.0, 0, 0, 7.925, 0, False, 0, 0, 1],\n",
        "       [2, 31.0, 1, 1, 37.0042, 1, False, 1, 0, 0],\n",
        "       [3, 43.0, 0, 0, 6.45, 1, False, 0, 0, 1],\n",
        "       [3, 10.0, 3, 2, 27.9, 1, False, 0, 0, 1],\n",
        "       [1, 52.0, 1, 1, 93.5, 0, False, 0, 0, 1],\n",
        "       [3, 27.0, 0, 0, 8.6625, 1, False, 0, 0, 1],\n",
        "       [1, 38.0, 0, 0, 0.0, 1, False, 0, 0, 1],\n",
        "       [3, 27.0, 0, 1, 12.475, 0, False, 0, 0, 1],\n",
        "       [3, 2.0, 4, 1, 39.6875, 1, False, 0, 0, 1],\n",
        "       [3, 29.69911764705882, 0, 0, 6.95, 1, True, 0, 1, 0],\n",
        "       [3, 29.69911764705882, 0, 0, 56.4958, 1, True, 0, 0, 1],\n",
        "       [2, 1.0, 0, 2, 37.0042, 1, False, 1, 0, 0],\n",
        "       [3, 29.69911764705882, 0, 0, 7.75, 1, True, 0, 1, 0],\n",
        "       [1, 62.0, 0, 0, 80.0, 0, False, 0, 0, 0],\n",
        "       [3, 15.0, 1, 0, 14.4542, 0, False, 1, 0, 0],\n",
        "       [2, 0.83, 1, 1, 18.75, 1, False, 0, 0, 1],\n",
        "       [3, 29.69911764705882, 0, 0, 7.2292, 1, True, 1, 0, 0],\n",
        "       [3, 23.0, 0, 0, 7.8542, 1, False, 0, 0, 1],\n",
        "       [3, 18.0, 0, 0, 8.3, 1, False, 0, 0, 1],\n",
        "       [1, 39.0, 1, 1, 83.1583, 0, False, 1, 0, 0],\n",
        "       [3, 21.0, 0, 0, 8.6625, 1, False, 0, 0, 1],\n",
        "       [3, 29.69911764705882, 0, 0, 8.05, 1, True, 0, 0, 1],\n",
        "       [3, 32.0, 0, 0, 56.4958, 1, False, 0, 0, 1],\n",
        "       [1, 29.69911764705882, 0, 0, 29.7, 1, True, 1, 0, 0],\n",
        "       [3, 20.0, 0, 0, 7.925, 1, False, 0, 0, 1],\n",
        "       [2, 16.0, 0, 0, 10.5, 1, False, 0, 0, 1],\n",
        "       [1, 30.0, 0, 0, 31.0, 0, False, 1, 0, 0],\n",
        "       [3, 34.5, 0, 0, 6.4375, 1, False, 1, 0, 0],\n",
        "       [3, 17.0, 0, 0, 8.6625, 1, False, 0, 0, 1],\n",
        "       [3, 42.0, 0, 0, 7.55, 1, False, 0, 0, 1],\n",
        "       [3, 29.69911764705882, 8, 2, 69.55, 1, True, 0, 0, 1],\n",
        "       [3, 35.0, 0, 0, 7.8958, 1, False, 1, 0, 0],\n",
        "       [2, 28.0, 0, 1, 33.0, 1, False, 0, 0, 1],\n",
        "       [1, 29.69911764705882, 1, 0, 89.1042, 0, True, 1, 0, 0],\n",
        "       [3, 4.0, 4, 2, 31.275, 1, False, 0, 0, 1],\n",
        "       [3, 74.0, 0, 0, 7.775, 1, False, 0, 0, 1],\n",
        "       [3, 9.0, 1, 1, 15.2458, 0, False, 1, 0, 0],\n",
        "       [1, 16.0, 0, 1, 39.4, 0, False, 0, 0, 1],\n",
        "       [2, 44.0, 1, 0, 26.0, 0, False, 0, 0, 1],\n",
        "       [3, 18.0, 0, 1, 9.35, 0, False, 0, 0, 1],\n",
        "       [1, 45.0, 1, 1, 164.8667, 0, False, 0, 0, 1],\n",
        "       [1, 51.0, 0, 0, 26.55, 1, False, 0, 0, 1],\n",
        "       [3, 24.0, 0, 3, 19.2583, 0, False, 1, 0, 0],\n",
        "       [3, 29.69911764705882, 0, 0, 7.2292, 1, True, 1, 0, 0],\n",
        "       [3, 41.0, 2, 0, 14.1083, 1, False, 0, 0, 1],\n",
        "       [2, 21.0, 1, 0, 11.5, 1, False, 0, 0, 1],\n",
        "       [1, 48.0, 0, 0, 25.9292, 0, False, 0, 0, 1],\n",
        "       [3, 29.69911764705882, 8, 2, 69.55, 0, True, 0, 0, 1],\n",
        "       [2, 24.0, 0, 0, 13.0, 1, False, 0, 0, 1],\n",
        "       [2, 42.0, 0, 0, 13.0, 0, False, 0, 0, 1],\n",
        "       [2, 27.0, 1, 0, 13.8583, 0, False, 1, 0, 0],\n",
        "       [1, 31.0, 0, 0, 50.4958, 1, False, 0, 0, 1],\n",
        "       [3, 29.69911764705882, 0, 0, 9.5, 1, True, 0, 0, 1],\n",
        "       [3, 4.0, 1, 1, 11.1333, 1, False, 0, 0, 1],\n",
        "       [3, 26.0, 0, 0, 7.8958, 1, False, 0, 0, 1],\n",
        "       [1, 47.0, 1, 1, 52.5542, 0, False, 0, 0, 1],\n",
        "       [1, 33.0, 0, 0, 5.0, 1, False, 0, 0, 1],\n",
        "       [3, 47.0, 0, 0, 9.0, 1, False, 0, 0, 1],\n",
        "       [2, 28.0, 1, 0, 24.0, 0, False, 1, 0, 0],\n",
        "       [3, 15.0, 0, 0, 7.225, 0, False, 1, 0, 0],\n",
        "       [3, 20.0, 0, 0, 9.8458, 1, False, 0, 0, 1],\n",
        "       [3, 19.0, 0, 0, 7.8958, 1, False, 0, 0, 1],\n",
        "       [3, 29.69911764705882, 0, 0, 7.8958, 1, True, 0, 0, 1],\n",
        "       [1, 56.0, 0, 1, 83.1583, 0, False, 1, 0, 0],\n",
        "       [2, 25.0, 0, 1, 26.0, 0, False, 0, 0, 1],\n",
        "       [3, 33.0, 0, 0, 7.8958, 1, False, 0, 0, 1],\n",
        "       [3, 22.0, 0, 0, 10.5167, 0, False, 0, 0, 1],\n",
        "       [2, 28.0, 0, 0, 10.5, 1, False, 0, 0, 1],\n",
        "       [3, 25.0, 0, 0, 7.05, 1, False, 0, 0, 1],\n",
        "       [3, 39.0, 0, 5, 29.125, 0, False, 0, 1, 0],\n",
        "       [2, 27.0, 0, 0, 13.0, 1, False, 0, 0, 1],\n",
        "       [1, 19.0, 0, 0, 30.0, 0, False, 0, 0, 1],\n",
        "       [3, 29.69911764705882, 1, 2, 23.45, 0, True, 0, 0, 1],\n",
        "       [1, 26.0, 0, 0, 30.0, 1, False, 1, 0, 0],\n",
        "       [3, 32.0, 0, 0, 7.75, 1, False, 0, 1, 0]], dtype=object)"
      ],
      "execution_count": 0,
      "outputs": []
    },
    {
      "metadata": {
        "colab_type": "code",
        "id": "LKLsryxEDWcC",
        "colab": {}
      },
      "cell_type": "code",
      "source": [
        "from keras.models import load_model\n",
        "model.save('model_file.h5')"
      ],
      "execution_count": 0,
      "outputs": []
    },
    {
      "metadata": {
        "colab_type": "code",
        "id": "-E2A5YccFzab",
        "colab": {}
      },
      "cell_type": "code",
      "source": [
        "my_model = load_model('model_file.h5')\n",
        "predictions = my_model.predict(data_to_predict_with)\n",
        "probability_true = predictions[:,1]"
      ],
      "execution_count": 0,
      "outputs": []
    },
    {
      "metadata": {
        "colab_type": "code",
        "id": "sSLwGtBlFO37",
        "colab": {}
      },
      "cell_type": "code",
      "source": [
        "print(probability_true)"
      ],
      "execution_count": 0,
      "outputs": []
    },
    {
      "metadata": {
        "colab_type": "code",
        "id": "vY6IaOaJF-qS",
        "colab": {}
      },
      "cell_type": "code",
      "source": [
        ""
      ],
      "execution_count": 0,
      "outputs": []
    }
  ]
}