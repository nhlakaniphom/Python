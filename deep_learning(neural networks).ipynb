{
  "nbformat": 4,
  "nbformat_minor": 0,
  "metadata": {
    "colab": {
      "name": "deep_learning.ipynb",
      "version": "0.3.2",
      "provenance": [],
      "collapsed_sections": [],
      "include_colab_link": true
    },
    "kernelspec": {
      "name": "python3",
      "display_name": "Python 3"
    },
    "accelerator": "TPU"
  },
  "cells": [
    {
      "cell_type": "markdown",
      "metadata": {
        "id": "view-in-github",
        "colab_type": "text"
      },
      "source": [
        "[View in Colaboratory](https://colab.research.google.com/github/nhlakaniphom/Python/blob/master/deep_learning(neural%20networks).ipynb)"
      ]
    },
    {
      "metadata": {
        "colab_type": "text",
        "id": "YfrYpjGV3VJ4"
      },
      "cell_type": "markdown",
      "source": [
        "# Introduction to deep learning"
      ]
    },
    {
      "metadata": {
        "colab_type": "text",
        "id": "meAYpuYV3fIv"
      },
      "cell_type": "markdown",
      "source": [
        "## Imagine you work for a bank\n",
        "* You need to predict how many transactions each customer\n",
        "will make next year"
      ]
    },
    {
      "metadata": {
        "id": "MlK8rPVd6b3h",
        "colab_type": "code",
        "colab": {}
      },
      "cell_type": "code",
      "source": [
        "from IPython.display import Image\n",
        "Image('example.jpg')"
      ],
      "execution_count": 0,
      "outputs": []
    },
    {
      "metadata": {
        "colab_type": "text",
        "id": "XonGp6sG3vff"
      },
      "cell_type": "markdown",
      "source": [
        "<img src=\"example.jpg\"/>"
      ]
    },
    {
      "metadata": {
        "id": "2IFTsrrR5gBk",
        "colab_type": "text"
      },
      "cell_type": "markdown",
      "source": [
        "## Example as seen by linear regression"
      ]
    },
    {
      "metadata": {
        "id": "AxK-chTZ6n2P",
        "colab_type": "code",
        "colab": {}
      },
      "cell_type": "code",
      "source": [
        "from IPython.display import Image\n",
        "Image('ex2.png')"
      ],
      "execution_count": 0,
      "outputs": []
    },
    {
      "metadata": {
        "id": "Ra8R1ESr5gBl",
        "colab_type": "text"
      },
      "cell_type": "markdown",
      "source": [
        "<img src=\"ex2.png\"/>"
      ]
    },
    {
      "metadata": {
        "id": "C7yz8r3l5gBn",
        "colab_type": "text"
      },
      "cell_type": "markdown",
      "source": [
        "## Interactions\n",
        "* Neural networks account for interactions really well\n",
        "* Deep learning uses especially powerful neural networks\n",
        "    - Text\n",
        "    - Images\n",
        "    - Videos\n",
        "    - Audio\n",
        "    - Source code"
      ]
    },
    {
      "metadata": {
        "colab_type": "text",
        "id": "A3G5zhrA0skv"
      },
      "cell_type": "markdown",
      "source": [
        "\n",
        "Deep learning, a powerful set of techniques for learning in neural networks\n",
        "![image.png](attachment:image.png)"
      ]
    },
    {
      "metadata": {
        "id": "DnJhiodJ5gBp",
        "colab_type": "text"
      },
      "cell_type": "markdown",
      "source": [
        "Which of the models in the diagrams has greater ability to account for interactions?\n",
        "<img src=\"ex21.png\"/>"
      ]
    },
    {
      "metadata": {
        "id": "mOlq1g9k5gBq",
        "colab_type": "text"
      },
      "cell_type": "markdown",
      "source": [
        "### Bank transactions example\n",
        "* Make predictions based on:\n",
        "    * Number of children\n",
        "    * Number of existing accounts\n",
        "\n",
        "## Forward propagation\n",
        "The input X provides the initial information that then propagates to the hidden units at each layer and finally produce the output $\\widehat{Y}$. \n",
        "\n",
        "**Depth** is the number of hidden layers.\n",
        "\n",
        "**Width** is the number of units (nodes) on each hidden layer.\n",
        "\n",
        "\n",
        "\n",
        "\n",
        "<img src=\"bank.jpg\"/>\n",
        "<img src=\"bank2.jpg\"/>"
      ]
    },
    {
      "metadata": {
        "id": "uvzNyMb05gBr",
        "colab_type": "text"
      },
      "cell_type": "markdown",
      "source": [
        "Forward propagation\n",
        "* Multiply - add process\n",
        "* Dot product\n",
        "* Forward propagation for one data point at a time\n",
        "* Output is the prediction for that data point\n",
        "### Implementation of Forward propagation"
      ]
    },
    {
      "metadata": {
        "colab": {},
        "colab_type": "code",
        "id": "RrvgmjJA3UfX"
      },
      "cell_type": "code",
      "source": [
        "import numpy as np\n",
        "\n",
        "input_data = np.array([2, 3])\n",
        "\n",
        "weights = {'node_0':np.array([1,1]),\n",
        "           'node_1':np.array([-1,1]),\n",
        "           'output':np.array([2,-1])}\n",
        "\n",
        "\n",
        "# Calculate node 0 value: node_0_value\n",
        "node_0_value = (input_data * weights['node_0']).sum()\n",
        "\n",
        "# Calculate node 1 value: node_1_value\n",
        "node_1_value = (input_data * weights['node_1']).sum()\n",
        "\n",
        "# Put node values into array: hidden_layer_outputs\n",
        "hidden_layer_outputs = np.array([node_0_value, node_1_value])\n",
        "\n",
        "# Calculate output: output\n",
        "output = (hidden_layer_outputs * weights['output']).sum()\n",
        "\n",
        "print(output)"
      ],
      "execution_count": 0,
      "outputs": []
    },
    {
      "metadata": {
        "id": "tVZLQeun5gB1",
        "colab_type": "text"
      },
      "cell_type": "markdown",
      "source": [
        "In this exercise, you'll write code to do forward propagation (prediction) for your first neural network:\n",
        "\n",
        "<img src=\"Neural exe.png\"/>"
      ]
    },
    {
      "metadata": {
        "id": "Fg2zrqJx5gB2",
        "colab_type": "code",
        "colab": {}
      },
      "cell_type": "code",
      "source": [
        "import numpy as np\n",
        "\n",
        "input_data = np.array([3, 5])\n",
        "weights = {'node_0': np.array([2, 4]), 'node_1': np.array([ 4, -5]), 'output': np.array([2, 7])}"
      ],
      "execution_count": 0,
      "outputs": []
    },
    {
      "metadata": {
        "id": "0Mg1wxB-5gB7",
        "colab_type": "code",
        "colab": {
          "base_uri": "https://localhost:8080/",
          "height": 34
        },
        "outputId": "7c6e67e0-5817-46c6-a3e4-b20b2a043e10"
      },
      "cell_type": "code",
      "source": [
        "# Calculate node 0 value: node_0_value\n",
        "node_0_value = (input_data * weights['node_0']).sum()\n",
        "\n",
        "# Calculate node 1 value: node_1_value\n",
        "node_1_value = (input_data * weights['node_1']).sum()\n",
        "\n",
        "# Put node values into array: hidden_layer_outputs\n",
        "hidden_layer_outputs = np.array([node_0_value, node_1_value])\n",
        "\n",
        "# Calculate output: output\n",
        "output = (hidden_layer_outputs * weights['output']).sum()\n",
        "\n",
        "# Print output\n",
        "print(output)\n"
      ],
      "execution_count": 0,
      "outputs": [
        {
          "output_type": "stream",
          "text": [
            "-39\n"
          ],
          "name": "stdout"
        }
      ]
    },
    {
      "metadata": {
        "id": "IDIY-GwC5gB_",
        "colab_type": "text"
      },
      "cell_type": "markdown",
      "source": [
        "### Activation functions\n",
        "<img src=\"Activation.png\"/>\n",
        "<img src=\"relu.png\"/>"
      ]
    },
    {
      "metadata": {
        "id": "Qa5isXQi5gB_",
        "colab_type": "text"
      },
      "cell_type": "markdown",
      "source": [
        "The rectified linear activation function (called ReLU) has been shown to lead to very high-performance networks. This function takes a single number as an input, returning 0 if the input is negative, and the input if the input is positive.\n",
        "\n",
        "Here are some examples:\n",
        "\n",
        "relu(3) = 3 \n",
        "\n",
        "relu(-3) = 0 "
      ]
    },
    {
      "metadata": {
        "id": "yv7ADI2E5gCC",
        "colab_type": "code",
        "colab": {}
      },
      "cell_type": "code",
      "source": [
        "input_data = np.array([-1, 2])\n",
        "weights = {'node_0':np.array([3,3]),\n",
        "           'node_1':np.array([1,5]),\n",
        "           'output':np.array([2,-1])}\n"
      ],
      "execution_count": 0,
      "outputs": []
    },
    {
      "metadata": {
        "id": "faseKVqw5gCI",
        "colab_type": "code",
        "colab": {
          "base_uri": "https://localhost:8080/",
          "height": 34
        },
        "outputId": "cd34cb91-5d47-48f9-dd54-12dfb69fa7a0"
      },
      "cell_type": "code",
      "source": [
        "def relu(input):\n",
        "    '''Define your relu activation function here'''\n",
        "    # Calculate the value for the output of the relu function: output\n",
        "    output = max(input, 0)\n",
        "    \n",
        "    # Return the value just calculated\n",
        "    return(output)\n",
        "\n",
        "# Calculate node 0 value: node_0_output\n",
        "node_0_input = (input_data * weights['node_0']).sum()\n",
        "node_0_output = relu(node_0_input)\n",
        "\n",
        "# Calculate node 1 value: node_1_output\n",
        "node_1_input = (input_data * weights['node_1']).sum()\n",
        "node_1_output = relu(node_1_input)\n",
        "\n",
        "# Put node values into array: hidden_layer_outputs\n",
        "hidden_layer_outputs = np.array([node_0_output, node_1_output])\n",
        "\n",
        "# Calculate model output (do not apply relu)\n",
        "model_output = (hidden_layer_outputs * weights['output']).sum()\n",
        "\n",
        "# Print model output\n",
        "print(model_output)"
      ],
      "execution_count": 0,
      "outputs": [
        {
          "output_type": "stream",
          "text": [
            "-3\n"
          ],
          "name": "stdout"
        }
      ]
    },
    {
      "metadata": {
        "id": "akYPhbwo5gCN",
        "colab_type": "text"
      },
      "cell_type": "markdown",
      "source": [
        "### Applying the network to many observations/rows of data"
      ]
    },
    {
      "metadata": {
        "id": "zac7umaJ5gCN",
        "colab_type": "code",
        "colab": {}
      },
      "cell_type": "code",
      "source": [
        "input_data = [np.array([3, 5]), \n",
        "              np.array([ 1, -1]), \n",
        "              np.array([0, 0]), \n",
        "              np.array([8, 4])]"
      ],
      "execution_count": 0,
      "outputs": []
    },
    {
      "metadata": {
        "id": "suMiDhYs5gCR",
        "colab_type": "code",
        "colab": {}
      },
      "cell_type": "code",
      "source": [
        "weight = {'node_0': np.array([2, 4]), \n",
        "          'node_1': np.array([ 4, -5]), \n",
        "          'output': np.array([2, 7])}"
      ],
      "execution_count": 0,
      "outputs": []
    },
    {
      "metadata": {
        "id": "_MXvoZsC5gCU",
        "colab_type": "code",
        "colab": {
          "base_uri": "https://localhost:8080/",
          "height": 34
        },
        "outputId": "af7a6415-4f63-4cec-ee9f-535daac3dbd3"
      },
      "cell_type": "code",
      "source": [
        "# Define predict_with_network()\n",
        "def predict_with_network(input_data_row, weights):\n",
        "\n",
        "    # Calculate node 0 value\n",
        "    node_0_input = (input_data_row * weights['node_0']).sum()\n",
        "    node_0_output =  relu(node_0_input)\n",
        "\n",
        "    # Calculate node 1 value\n",
        "    node_1_input = (input_data_row * weights['node_1']).sum()\n",
        "    node_1_output =  relu(node_1_input)\n",
        "\n",
        "    # Put node values into array: hidden_layer_outputs\n",
        "    hidden_layer_outputs = np.array([node_0_output, node_1_output])\n",
        "    \n",
        "    # Calculate model output\n",
        "    input_to_final_layer = (hidden_layer_outputs * weights['output']).sum()\n",
        "    model_output = relu(input_to_final_layer)\n",
        "    \n",
        "    # Return model output\n",
        "    return(model_output)\n",
        "\n",
        "\n",
        "# Create empty list to store prediction results\n",
        "results = []\n",
        "for input_data_row in input_data:\n",
        "    # Append prediction to results\n",
        "    results.append(predict_with_network(input_data_row, weight))\n",
        "\n",
        "# Print results\n",
        "print(results)"
      ],
      "execution_count": 0,
      "outputs": [
        {
          "output_type": "stream",
          "text": [
            "[52, 63, 0, 148]\n"
          ],
          "name": "stdout"
        }
      ]
    },
    {
      "metadata": {
        "id": "69pm-_JH5gCX",
        "colab_type": "text"
      },
      "cell_type": "markdown",
      "source": [
        "### Multilayer Neural Network\n",
        "<img src=\"mulitlayer.png\"/>"
      ]
    },
    {
      "metadata": {
        "id": "QVY8gI9D5gCY",
        "colab_type": "text"
      },
      "cell_type": "markdown",
      "source": [
        "<img src=\"mulitlayer2.png\"/>"
      ]
    },
    {
      "metadata": {
        "id": "2dT6AY2f5gCZ",
        "colab_type": "text"
      },
      "cell_type": "markdown",
      "source": [
        "### Representation learning\n",
        "<img src=\"Deep-belief.png\"/>"
      ]
    },
    {
      "metadata": {
        "id": "9OpnFNCp5gCb",
        "colab_type": "text"
      },
      "cell_type": "markdown",
      "source": [
        "## The need for optimization"
      ]
    },
    {
      "metadata": {
        "id": "V3i_xN7w5gCc",
        "colab_type": "text"
      },
      "cell_type": "markdown",
      "source": [
        "<img src=\"opti.png\"/>\n",
        "\n",
        "\n",
        "* Actual Value of Target: 13\n",
        "* Error: Predicted - Actual = -4\n",
        "<img src=\"opti2.png\"/>\n",
        "* Actual Value of Target: 13\n",
        "* Error: Predicted - Actual = 0"
      ]
    },
    {
      "metadata": {
        "id": "MGZbOXb65gCd",
        "colab_type": "text"
      },
      "cell_type": "markdown",
      "source": [
        "### Predictions with multiple points\n",
        "* Making accurate predictions gets harder with more points\n",
        "* At any set of weights, there are many values of the error\n",
        "* … corresponding to the many points we make predictions for"
      ]
    },
    {
      "metadata": {
        "id": "M4n-qHn55gCf",
        "colab_type": "text"
      },
      "cell_type": "markdown",
      "source": [
        "### Loss function\n",
        "* Aggregates errors in predictions from many data points into single number\n",
        "* Measure of model’s predictive performance"
      ]
    },
    {
      "metadata": {
        "id": "rD39vPjv5gCh",
        "colab_type": "text"
      },
      "cell_type": "markdown",
      "source": [
        "#### Squared error loss function\n",
        "<img src=\"Error.png\"/>\n",
        "* Total Squared Error: 150\n",
        "* Mean Squared Error: 50"
      ]
    },
    {
      "metadata": {
        "id": "5UNy05vk5gCj",
        "colab_type": "text"
      },
      "cell_type": "markdown",
      "source": [
        "#### Loss function\n",
        "* Lower loss function value means a be!er model\n",
        "* Goal: Find the weights that give the lowest value for the loss function\n",
        "* Gradient descent"
      ]
    },
    {
      "metadata": {
        "id": "kKTR0xiy5gCm",
        "colab_type": "text"
      },
      "cell_type": "markdown",
      "source": [
        "**Question:** What is the error (predicted - actual) for the following network when the input data is [3, 2] and the actual value of the target (what you are trying to predict) is 5? It may be helpful to get out a pen and piece of paper to calculate these values.\n",
        "<img src=\"ex2_3.png\"/>"
      ]
    },
    {
      "metadata": {
        "id": "h0Yg1aRu5gCo",
        "colab_type": "text"
      },
      "cell_type": "markdown",
      "source": [
        "**Question:** Imagine you have to make a prediction for a single data point. The actual value of the target is 7. The weight going from node_0 to the output is 2, as shown below. If you increased it slightly, changing it to 2.01, would the predictions become more accurate, less accurate, or stay the same?"
      ]
    },
    {
      "metadata": {
        "id": "1MNSF7GX5gCq",
        "colab_type": "text"
      },
      "cell_type": "markdown",
      "source": [
        "**Coding how weight changes affect accuracy**\n",
        "<img src=\"ex4.png\"/>\n",
        "Your task in this exercise is to update a single weight in weights_0 to create weights_1, which gives a perfect prediction (in which the predicted value is equal to target_actual: 3)."
      ]
    },
    {
      "metadata": {
        "id": "fPb8q8PW5gCt",
        "colab_type": "code",
        "colab": {}
      },
      "cell_type": "code",
      "source": [
        "def predict_with_network(input_data_point, weights):\n",
        "    node_0_input = (input_data * weights['node_0']).sum()\n",
        "    node_0_output = relu(node_0_input)\n",
        "\n",
        "    node_1_input = (input_data * weights['node_1']).sum()\n",
        "    node_1_output = relu(node_1_input)\n",
        "\n",
        "    hidden_layer_values = np.array([node_0_output, node_1_output])\n",
        "    input_to_final_layer = (hidden_layer_values * weights['output']).sum()\n",
        "    model_output = relu(input_to_final_layer)\n",
        "    \n",
        "    return(model_output)"
      ],
      "execution_count": 0,
      "outputs": []
    },
    {
      "metadata": {
        "id": "OVBqdUWI5gC1",
        "colab_type": "code",
        "colab": {
          "base_uri": "https://localhost:8080/",
          "height": 54
        },
        "outputId": "9deb318e-e01b-41a7-8c84-fdf0e1c9aafa"
      },
      "cell_type": "code",
      "source": [
        "# The data point you will make a prediction for\n",
        "input_data = np.array([0, 3])\n",
        "\n",
        "# Sample weights\n",
        "weights_0 = {'node_0': [2, 1],\n",
        "             'node_1': [1, 2],\n",
        "             'output': [1, 1]\n",
        "            }\n",
        "\n",
        "# The actual target value, used to calculate the error\n",
        "target_actual = 3\n",
        "\n",
        "# Make prediction using original weights\n",
        "model_output_0 = predict_with_network(input_data, weights_0)\n",
        "\n",
        "# # Calculate error: error_0\n",
        "error_0 = model_output_0 - target_actual\n",
        "\n",
        "# # Create weights that cause the network to make perfect prediction (3): weights_1\n",
        "weights_1 = {'node_0': [2, 1],\n",
        "             'node_1': [1, 0],\n",
        "             'output': [1, 1]\n",
        "            }\n",
        "\n",
        "# # Make prediction using new weights: model_output_1\n",
        "model_output_1 = predict_with_network(input_data, weights_1)\n",
        "\n",
        "# Calculate error: error_1\n",
        "error_1 = model_output_1 - target_actual\n",
        "\n",
        "# # Print error_0 and error_1\n",
        "print(error_0)\n",
        "print(error_1)"
      ],
      "execution_count": 0,
      "outputs": [
        {
          "output_type": "stream",
          "text": [
            "6\n",
            "0\n"
          ],
          "name": "stdout"
        }
      ]
    },
    {
      "metadata": {
        "id": "GJUdi4NA5gC7",
        "colab_type": "text"
      },
      "cell_type": "markdown",
      "source": [
        "#### Scaling up to multiple data points\n",
        "You've seen how different weights will have different accuracies on a single prediction. But usually, you'll want to measure model accuracy on many points."
      ]
    },
    {
      "metadata": {
        "id": "4H6lL-045gC9",
        "colab_type": "code",
        "colab": {}
      },
      "cell_type": "code",
      "source": [
        "#Weights 0\n",
        "weights_0 = {'node_0': np.array([2, 1]),\n",
        "             'node_1': np.array([1, 2]), \n",
        "             'output': np.array([1, 1])}\n",
        "\n",
        "#Weights 1\n",
        "weights_1 ={'node_0': np.array([2, 1]),\n",
        "            'node_1': np.array([1. , 1.5]),\n",
        "            'output': np.array([1. , 1.5])}\n",
        "\n",
        "# input Data\n",
        "input_data = [np.array([0, 3]), np.array([1, 2]),\n",
        "              np.array([-1, -2]), np.array([4, 0])]\n",
        "\n",
        "#Actual value \n",
        "target_actuals = [1, 3, 5, 7]"
      ],
      "execution_count": 0,
      "outputs": []
    },
    {
      "metadata": {
        "id": "76pXdZlk5gDB",
        "colab_type": "code",
        "colab": {
          "base_uri": "https://localhost:8080/",
          "height": 54
        },
        "outputId": "a10d4ccb-6967-4ea0-c3c2-04c40d6b97bc"
      },
      "cell_type": "code",
      "source": [
        "from sklearn.metrics import mean_squared_error\n",
        "\n",
        "# Create model_output_0 \n",
        "model_output_0 = []\n",
        "# Create model_output_1\n",
        "model_output_1 = []\n",
        "\n",
        "# Loop over input_data\n",
        "for row in input_data:\n",
        "    # Append prediction to model_output_0\n",
        "    model_output_0.append(predict_with_network(row, weights_0))\n",
        "    \n",
        "    # Append prediction to model_output_1\n",
        "    model_output_1.append(predict_with_network(row, weights_1))\n",
        "\n",
        "# Calculate the mean squared error for model_output_0: mse_0\n",
        "mse_0 = mean_squared_error(target_actuals, model_output_0)\n",
        "\n",
        "# Calculate the mean squared error for model_output_1: mse_1\n",
        "mse_1 = mean_squared_error(target_actuals, model_output_1)\n",
        "\n",
        "# Print mse_0 and mse_1\n",
        "print(\"Mean squared error with weights_0: %f\" %mse_0)\n",
        "print(\"Mean squared error with weights_1: %f\" %mse_1)"
      ],
      "execution_count": 0,
      "outputs": [
        {
          "output_type": "stream",
          "text": [
            "Mean squared error with weights_0: 294.000000\n",
            "Mean squared error with weights_1: 395.062500\n"
          ],
          "name": "stdout"
        }
      ]
    },
    {
      "metadata": {
        "id": "qVHJTVkJ5gDE",
        "colab_type": "text"
      },
      "cell_type": "markdown",
      "source": [
        "### Gradient descent\n",
        "* Imagine you are in a pitch dark field\n",
        "* Want to find the lowest point\n",
        "* Feel the ground to see how it slopes\n",
        "* Take a small step downhill\n",
        "* Repeat until it is uphill in every direction\n",
        "<img src=\"Gradient.png\"/>"
      ]
    },
    {
      "metadata": {
        "id": "IIfjfpFi5gDG",
        "colab_type": "text"
      },
      "cell_type": "markdown",
      "source": [
        "### Gradient descent steps\n",
        "* Start at random point\n",
        "* Until you are somewhere flat:\n",
        "    * Find the slope\n",
        "    * Take a step downhill\n",
        "<img src=\"GradientSlope.png\"/>"
      ]
    },
    {
      "metadata": {
        "id": "N9E6WYMo5gDI",
        "colab_type": "text"
      },
      "cell_type": "markdown",
      "source": [
        "### If the slope is positive:\n",
        "* Going opposite the slope means moving to lower numbers\n",
        "  * Subtract the slope from the current value\n",
        "  * Too big a step might lead us astray\n",
        "  * Solution: learning rate\n",
        "* Update each weight by subtracting\n",
        "$$learning\\text{ } rate * slope$$"
      ]
    },
    {
      "metadata": {
        "id": "CkpApuC77fDv",
        "colab_type": "text"
      },
      "cell_type": "markdown",
      "source": [
        "### Slope calculation example\n",
        "<img src=\"slop.jpg\"/>\n",
        "\n",
        "Actual Target Value = 10\n",
        "\n",
        "To calculate the slope for a weight, need to multiply:\n",
        "* Slope of the loss function w.r.t value at the node we feed into\n",
        "* The value of the node that feeds into our weight\n",
        "* Slope of the activation function w.r.t value we\n",
        "feed into"
      ]
    },
    {
      "metadata": {
        "id": "5mhS1-VX8CJA",
        "colab_type": "text"
      },
      "cell_type": "markdown",
      "source": [
        "Slope of mean-squared loss function w.r.t prediction:\n",
        "* 2 * (Predicted Value - Actual Value) = 2 * Error\n",
        "* 2 * -4\n",
        "\n",
        "The value of the node that feeds into our weight = 3\n",
        "\n",
        "$2\\times-4\\times3$\n",
        "$=24$\n",
        "* If learning rate is 0.01, the new weight would be\n",
        "\n",
        "$2 - 0.01(-24) = 2.24$"
      ]
    },
    {
      "metadata": {
        "id": "hT9zSyCd9COA",
        "colab_type": "text"
      },
      "cell_type": "markdown",
      "source": [
        "## Network with two inputs affecting prediction\n",
        "\n",
        "<img src=\"NetworkSlope.png\"/>"
      ]
    },
    {
      "metadata": {
        "id": "10D1e3V_5gDT",
        "colab_type": "code",
        "colab": {}
      },
      "cell_type": "code",
      "source": [
        "import numpy as np"
      ],
      "execution_count": 0,
      "outputs": []
    },
    {
      "metadata": {
        "id": "WFQB0NtG9arJ",
        "colab_type": "code",
        "colab": {
          "base_uri": "https://localhost:8080/",
          "height": 35
        },
        "outputId": "4dbae87e-1ab2-4018-fc91-03ce545ea6b6"
      },
      "cell_type": "code",
      "source": [
        "weights=np.array([1,2])\n",
        "input_data = np.array([3,4])\n",
        "target = 6\n",
        "learning_rate =0.01\n",
        "preds = (weights * input_data).sum()\n",
        "error = preds - target\n",
        "print(error)"
      ],
      "execution_count": 0,
      "outputs": [
        {
          "output_type": "stream",
          "text": [
            "5\n"
          ],
          "name": "stdout"
        }
      ]
    },
    {
      "metadata": {
        "id": "JZkR80jO9wcZ",
        "colab_type": "code",
        "colab": {
          "base_uri": "https://localhost:8080/",
          "height": 35
        },
        "outputId": "e9dcea2b-d473-4a5e-8419-07c18b41233c"
      },
      "cell_type": "code",
      "source": [
        "gradient = 2 * input_data * error\n",
        "print (gradient)"
      ],
      "execution_count": 0,
      "outputs": [
        {
          "output_type": "stream",
          "text": [
            "[30 40]\n"
          ],
          "name": "stdout"
        }
      ]
    },
    {
      "metadata": {
        "id": "bkV9e3o194Ay",
        "colab_type": "code",
        "colab": {}
      },
      "cell_type": "code",
      "source": [
        "weights_update = weights - learning_rate * gradient"
      ],
      "execution_count": 0,
      "outputs": []
    },
    {
      "metadata": {
        "id": "CN-h1wbV-CJp",
        "colab_type": "code",
        "colab": {}
      },
      "cell_type": "code",
      "source": [
        "preds_update = (weights_update * input_data).sum()"
      ],
      "execution_count": 0,
      "outputs": []
    },
    {
      "metadata": {
        "id": "LswmcUCX-LJ6",
        "colab_type": "code",
        "colab": {}
      },
      "cell_type": "code",
      "source": [
        "error_updated = preds_update - target"
      ],
      "execution_count": 0,
      "outputs": []
    },
    {
      "metadata": {
        "id": "tU9XEGB4-RQy",
        "colab_type": "code",
        "colab": {
          "base_uri": "https://localhost:8080/",
          "height": 35
        },
        "outputId": "7d7da413-e7c1-4ec7-d516-a3a951d50880"
      },
      "cell_type": "code",
      "source": [
        "print(error_updated)"
      ],
      "execution_count": 0,
      "outputs": [
        {
          "output_type": "stream",
          "text": [
            "2.5\n"
          ],
          "name": "stdout"
        }
      ]
    },
    {
      "metadata": {
        "id": "3QMXgSwX_NkY",
        "colab_type": "text"
      },
      "cell_type": "markdown",
      "source": [
        "**Question**  Calculate the slope"
      ]
    },
    {
      "metadata": {
        "id": "lZ_bahGv-UzR",
        "colab_type": "code",
        "colab": {}
      },
      "cell_type": "code",
      "source": [
        "input_data = np.array([1, 2, 3])\n",
        "weights = np.array([1, 2, 3])"
      ],
      "execution_count": 0,
      "outputs": []
    },
    {
      "metadata": {
        "id": "GCj1-vh0_ePA",
        "colab_type": "code",
        "colab": {
          "base_uri": "https://localhost:8080/",
          "height": 35
        },
        "outputId": "8a9ab625-e77f-4a4a-bab4-1e9d86c57092"
      },
      "cell_type": "code",
      "source": [
        "# Calculate the predictions: preds\n",
        "preds = (weights * input_data).sum()\n",
        "\n",
        "# Calculate the error: error\n",
        "error =  preds - target\n",
        "\n",
        "# Calculate the slope: slope\n",
        "slope = 2 * input_data * error\n",
        "\n",
        "# Print the slope\n",
        "print(slope)"
      ],
      "execution_count": 0,
      "outputs": [
        {
          "output_type": "stream",
          "text": [
            "[16 32 48]\n"
          ],
          "name": "stdout"
        }
      ]
    },
    {
      "metadata": {
        "id": "ZiTfF9uEAG1I",
        "colab_type": "text"
      },
      "cell_type": "markdown",
      "source": [
        "**Question** Improving model weights"
      ]
    },
    {
      "metadata": {
        "id": "xhlhB5O__ntR",
        "colab_type": "code",
        "colab": {}
      },
      "cell_type": "code",
      "source": [
        "input_date = np.array([1, 2, 3])\n",
        "weights = np.array([0, 2, 1])"
      ],
      "execution_count": 0,
      "outputs": []
    },
    {
      "metadata": {
        "id": "hdTZuIHiAS1a",
        "colab_type": "code",
        "colab": {
          "base_uri": "https://localhost:8080/",
          "height": 54
        },
        "outputId": "6e577d6f-248a-485c-c241-11df7f13584f"
      },
      "cell_type": "code",
      "source": [
        "# Set the learning rate: learning_rate\n",
        "learning_rate = 0.01\n",
        "\n",
        "# Calculate the predictions: preds\n",
        "preds = (weights * input_data).sum()\n",
        "\n",
        "# Calculate the error: error\n",
        "error = preds - target\n",
        "\n",
        "# Calculate the slope: slope\n",
        "slope = 2 * input_data * error\n",
        "\n",
        "# Update the weights: weights_updated\n",
        "weights_updated = weights - (learning_rate * slope)\n",
        "\n",
        "# Get updated predictions: preds_updated\n",
        "preds_updated = (weights_updated * input_data).sum()\n",
        "\n",
        "# Calculate updated error: error_updated\n",
        "error_updated = preds_updated - target\n",
        "\n",
        "# Print the original error\n",
        "print(error)\n",
        "\n",
        "# Print the updated error\n",
        "print(error_updated)"
      ],
      "execution_count": 0,
      "outputs": [
        {
          "output_type": "stream",
          "text": [
            "1\n",
            "0.7199999999999998\n"
          ],
          "name": "stdout"
        }
      ]
    },
    {
      "metadata": {
        "id": "zM6IHCEbDjqS",
        "colab_type": "text"
      },
      "cell_type": "markdown",
      "source": [
        "### Making multiple updates to weights"
      ]
    },
    {
      "metadata": {
        "id": "yJwGV7oFA325",
        "colab_type": "code",
        "colab": {}
      },
      "cell_type": "code",
      "source": [
        "input_data = np.array([1, 2, 3])\n",
        "weights = np.array([0, 2, 1])"
      ],
      "execution_count": 0,
      "outputs": []
    },
    {
      "metadata": {
        "id": "UPNieyOfB7JN",
        "colab_type": "code",
        "colab": {}
      },
      "cell_type": "code",
      "source": [
        "def get_error(input_data, target, weights):\n",
        "    preds = (weights * input_data).sum()\n",
        "    error = preds - target\n",
        "    return(error)"
      ],
      "execution_count": 0,
      "outputs": []
    },
    {
      "metadata": {
        "id": "Y0rO_n_QA4C8",
        "colab_type": "code",
        "colab": {}
      },
      "cell_type": "code",
      "source": [
        "def get_slope(input_data, target, weights):\n",
        "    error = get_error(input_data, target, weights)\n",
        "    slope = 2 * input_data * error\n",
        "    return(slope)"
      ],
      "execution_count": 0,
      "outputs": []
    },
    {
      "metadata": {
        "id": "J1onHqTBA5zR",
        "colab_type": "code",
        "colab": {}
      },
      "cell_type": "code",
      "source": [
        "def get_mse(input_data, target, weights):\n",
        "    errors = get_error(input_data, target, weights)\n",
        "    mse = np.mean(errors**2)\n",
        "    return(mse)"
      ],
      "execution_count": 0,
      "outputs": []
    },
    {
      "metadata": {
        "id": "rhh_yDryCVEr",
        "colab_type": "code",
        "colab": {
          "base_uri": "https://localhost:8080/",
          "height": 361
        },
        "outputId": "07a007fb-14d1-44fd-aeb9-9513aefcd4b4"
      },
      "cell_type": "code",
      "source": [
        "import matplotlib.pyplot as plt\n",
        "n_updates = 20\n",
        "mse_hist = []\n",
        "\n",
        "# Iterate over the number of updates\n",
        "for i in range(n_updates):\n",
        "    # Calculate the slope: slope\n",
        "    slope = get_slope(input_data, target, weights)\n",
        "    \n",
        "    # Update the weights: weights\n",
        "    weights = weights - (learning_rate * slope)\n",
        "    \n",
        "    # Calculate mse with new weights: mse\n",
        "    mse = get_mse(input_data, target, weights)\n",
        "    \n",
        "    # Append the mse to mse_hist\n",
        "    mse_hist.append(mse)\n",
        "\n",
        "# Plot the mse history\n",
        "plt.plot(mse_hist)\n",
        "plt.xlabel('Iterations')\n",
        "plt.ylabel('Mean Squared Error')\n",
        "plt.show()"
      ],
      "execution_count": 0,
      "outputs": [
        {
          "output_type": "display_data",
          "data": {
            "image/png": "[encoded data removed]",
            "text/plain": [
              "<matplotlib.figure.Figure at 0x7f1da4d902e8>"
            ]
          },
          "metadata": {
            "tags": []
          }
        }
      ]
    },
    {
      "metadata": {
        "id": "F5ixDRjgFV3i",
        "colab_type": "text"
      },
      "cell_type": "markdown",
      "source": [
        "## Backpropagation\n",
        "<img src=\"Backpropagation.png\"/>"
      ]
    },
    {
      "metadata": {
        "id": "XbL8BxqiCtKb",
        "colab_type": "code",
        "colab": {}
      },
      "cell_type": "code",
      "source": [
        ""
      ],
      "execution_count": 0,
      "outputs": []
    }
  ]
}