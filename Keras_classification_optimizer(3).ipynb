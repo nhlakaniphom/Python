{
  "nbformat": 4,
  "nbformat_minor": 0,
  "metadata": {
    "colab": {
      "name": "Keras_classification_optimizer(3).ipynb",
      "version": "0.3.2",
      "provenance": [],
      "include_colab_link": true
    },
    "kernelspec": {
      "name": "python3",
      "display_name": "Python 3"
    },
    "accelerator": "GPU"
  },
  "cells": [
    {
      "cell_type": "markdown",
      "metadata": {
        "id": "view-in-github",
        "colab_type": "text"
      },
      "source": [
        "[View in Colaboratory](https://colab.research.google.com/github/nhlakaniphom/Python/blob/master/Keras_classification_optimizer(3).ipynb)"
      ]
    },
    {
      "metadata": {
        "colab_type": "code",
        "id": "xljp2PcsHqbM",
        "colab": {},
        "outputId": "503083d1-adcf-4daf-ae32-9e48cd7897df"
      },
      "cell_type": "code",
      "source": [
        "import numpy as np\n",
        "from keras.models import Sequential\n",
        "from keras.layers import Dense\n",
        "from keras.utils import to_categorical\n",
        "import pandas as pd"
      ],
      "execution_count": 0,
      "outputs": []
    },
    {
      "metadata": {
        "colab_type": "code",
        "id": "ZWaY0FMTIKxT",
        "colab": {}
      },
      "cell_type": "code",
      "source": [
        "dataset =pd.read_csv('titanic_all_numeric.csv')\n",
        "target = to_categorical(dataset.survived)\n",
        "predictor = dataset.drop(['survived'],axis=1)\n",
        "input_shape = (predictor.shape[1],)\n",
        "n_cols = predictor.shape[1]"
      ],
      "execution_count": 0,
      "outputs": []
    },
    {
      "metadata": {
        "colab_type": "code",
        "id": "bAMVeeEOItCk",
        "colab": {}
      },
      "cell_type": "code",
      "source": [
        "def get_new_model(input_shape = input_shape):\n",
        "    model = Sequential()\n",
        "    model.add(Dense(100, activation='relu', input_shape = input_shape))\n",
        "    model.add(Dense(100, activation='relu'))\n",
        "    model.add(Dense(2, activation='softmax'))\n",
        "    return(model)"
      ],
      "execution_count": 0,
      "outputs": []
    },
    {
      "metadata": {
        "id": "B0s97J7JmQk4",
        "colab_type": "code",
        "colab": {
          "base_uri": "https://localhost:8080/",
          "height": 740
        },
        "outputId": "454bb84a-93fa-4e00-da65-4440f308091a"
      },
      "cell_type": "code",
      "source": [
        "model = get_new_model(input_shape)\n",
        "# Compile the model\n",
        "model.compile(optimizer='sgd', loss='categorical_crossentropy',\n",
        "              metrics=['accuracy'] )\n",
        "\n",
        "# Fit the model\n",
        "model.fit(predictor, target, epochs=20)"
      ],
      "execution_count": 6,
      "outputs": [
        {
          "output_type": "stream",
          "text": [
            "Epoch 1/20\n",
            "891/891 [==============================] - 1s 1ms/step - loss: 1.6422 - acc: 0.6083\n",
            "Epoch 2/20\n",
            "891/891 [==============================] - 0s 135us/step - loss: 0.7580 - acc: 0.6409\n",
            "Epoch 3/20\n",
            "891/891 [==============================] - 0s 134us/step - loss: 0.6134 - acc: 0.6700\n",
            "Epoch 4/20\n",
            "891/891 [==============================] - 0s 148us/step - loss: 0.6163 - acc: 0.6599\n",
            "Epoch 5/20\n",
            "891/891 [==============================] - 0s 136us/step - loss: 0.6037 - acc: 0.6768\n",
            "Epoch 6/20\n",
            "891/891 [==============================] - 0s 136us/step - loss: 0.5944 - acc: 0.6880\n",
            "Epoch 7/20\n",
            "891/891 [==============================] - 0s 149us/step - loss: 0.6076 - acc: 0.6801\n",
            "Epoch 8/20\n",
            "891/891 [==============================] - 0s 147us/step - loss: 0.6007 - acc: 0.7015\n",
            "Epoch 9/20\n",
            "891/891 [==============================] - 0s 144us/step - loss: 0.5883 - acc: 0.7104\n",
            "Epoch 10/20\n",
            "891/891 [==============================] - 0s 147us/step - loss: 0.5924 - acc: 0.6869\n",
            "Epoch 11/20\n",
            "891/891 [==============================] - 0s 148us/step - loss: 0.5866 - acc: 0.6981\n",
            "Epoch 12/20\n",
            "891/891 [==============================] - 0s 158us/step - loss: 0.5844 - acc: 0.7003\n",
            "Epoch 13/20\n",
            "891/891 [==============================] - 0s 143us/step - loss: 0.5958 - acc: 0.6846\n",
            "Epoch 14/20\n",
            "891/891 [==============================] - 0s 143us/step - loss: 0.5823 - acc: 0.7048\n",
            "Epoch 15/20\n",
            "891/891 [==============================] - 0s 150us/step - loss: 0.5792 - acc: 0.7015\n",
            "Epoch 16/20\n",
            "891/891 [==============================] - 0s 146us/step - loss: 0.5796 - acc: 0.7104\n",
            "Epoch 17/20\n",
            "891/891 [==============================] - 0s 145us/step - loss: 0.5814 - acc: 0.7037\n",
            "Epoch 18/20\n",
            "891/891 [==============================] - 0s 154us/step - loss: 0.5894 - acc: 0.7048\n",
            "Epoch 19/20\n",
            "891/891 [==============================] - 0s 158us/step - loss: 0.5696 - acc: 0.7104\n",
            "Epoch 20/20\n",
            "891/891 [==============================] - 0s 143us/step - loss: 0.5735 - acc: 0.7273\n"
          ],
          "name": "stdout"
        },
        {
          "output_type": "execute_result",
          "data": {
            "text/plain": [
              "<keras.callbacks.History at 0x7fa855298eb8>"
            ]
          },
          "metadata": {
            "tags": []
          },
          "execution_count": 6
        }
      ]
    },
    {
      "metadata": {
        "colab_type": "text",
        "id": "8oiA8JtHV_hN"
      },
      "cell_type": "markdown",
      "source": [
        "## Why optimization is hard\n",
        "* Simultaneously optimizing 1000s of parameters with complex relationships\n",
        "* Updates may not improve model meaningfully\n",
        "* Updates too small (if learning rate is low) or too large (if learning rate is high)"
      ]
    },
    {
      "metadata": {
        "colab_type": "text",
        "id": "40AfxLNRXEh2"
      },
      "cell_type": "markdown",
      "source": [
        "**Stochastic gradient descent**"
      ]
    },
    {
      "metadata": {
        "colab_type": "code",
        "id": "mC3vmhiGWIof",
        "outputId": "7cdcf49e-ae5a-428e-ebaa-c158b6f94643",
        "colab": {}
      },
      "cell_type": "code",
      "source": [
        "from keras.optimizers import SGD\n",
        "\n",
        "lr_to_test = [.000001, 0.01, 1]\n",
        "# loop over learning rates\n",
        "for lr in lr_to_test:\n",
        "  model = get_new_model()\n",
        "  my_optimizer = SGD(lr=lr)\n",
        "  model.compile(optimizer = my_optimizer, loss = 'categorical_crossentropy', metrics=['accuracy'])\n",
        "  model.fit(predictor, target)"
      ],
      "execution_count": 0,
      "outputs": []
    },
    {
      "metadata": {
        "colab_type": "text",
        "id": "8Mm466r9ZzkA"
      },
      "cell_type": "markdown",
      "source": [
        "## Model Validation\n",
        "* Commonly use validation split rather than crossvalidation\n",
        "* Deep learning widely used on large datasets\n",
        "* Single validation score is based on large amount of data, and is reliable\n",
        "* Repeated training from cross-validation would take long time"
      ]
    },
    {
      "metadata": {
        "colab_type": "code",
        "id": "qi4q8LGSWxNH",
        "outputId": "b390c26c-4344-4151-e812-a7db7c500aaf",
        "colab": {}
      },
      "cell_type": "code",
      "source": [
        "# Specify the model\n",
        "model = Sequential()\n",
        "model.add(Dense(100, activation='relu', input_shape = input_shape))\n",
        "model.add(Dense(100, activation='relu'))\n",
        "model.add(Dense(2, activation='softmax'))\n",
        "\n",
        "# Compile the model\n",
        "model.compile(optimizer='adam', loss='categorical_crossentropy',metrics=['accuracy'])\n",
        "\n",
        "# Fit the model\n",
        "hist = model.fit(predictor, target, validation_split=0.3, epochs=20)"
      ],
      "execution_count": 0,
      "outputs": []
    },
    {
      "metadata": {
        "colab_type": "text",
        "id": "CRDFPgtlbQ0X"
      },
      "cell_type": "markdown",
      "source": [
        "## Early Stopping"
      ]
    },
    {
      "metadata": {
        "colab_type": "code",
        "id": "zwsGuzVXaku1",
        "outputId": "7f99986f-c36f-42ce-dd63-ca827c9664cc",
        "colab": {}
      },
      "cell_type": "code",
      "source": [
        "from keras.callbacks import EarlyStopping\n",
        "early_stopping_monitor = EarlyStopping(patience=5)\n",
        "# Specify the model\n",
        "model = Sequential()\n",
        "model.add(Dense(100, activation='relu', input_shape = input_shape))\n",
        "model.add(Dense(100, activation='relu'))\n",
        "model.add(Dense(2, activation='softmax'))\n",
        "\n",
        "# Compile the model\n",
        "model.compile(optimizer='adam', loss='categorical_crossentropy',metrics=['accuracy'])\n",
        "\n",
        "# Fit the model\n",
        "hist = model.fit(predictor, target, validation_split=0.3, epochs=20, callbacks = [early_stopping_monitor])"
      ],
      "execution_count": 0,
      "outputs": []
    },
    {
      "metadata": {
        "colab_type": "code",
        "id": "X0LREnu2bapW",
        "colab": {}
      },
      "cell_type": "code",
      "source": [
        ""
      ],
      "execution_count": 0,
      "outputs": []
    }
  ]
}