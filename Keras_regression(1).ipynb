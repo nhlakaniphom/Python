{
  "nbformat": 4,
  "nbformat_minor": 0,
  "metadata": {
    "colab": {
      "name": "Keras_regression(1).ipynb",
      "version": "0.3.2",
      "provenance": [],
      "collapsed_sections": [],
      "toc_visible": true,
      "include_colab_link": true
    },
    "kernelspec": {
      "name": "python3",
      "display_name": "Python 3"
    },
    "accelerator": "GPU"
  },
  "cells": [
    {
      "cell_type": "markdown",
      "metadata": {
        "id": "view-in-github",
        "colab_type": "text"
      },
      "source": [
        "[View in Colaboratory](https://colab.research.google.com/github/nhlakaniphom/Python/blob/master/Keras_regression(1).ipynb)"
      ]
    },
    {
      "metadata": {
        "colab_type": "text",
        "id": "pa3G8UZq4QQz"
      },
      "cell_type": "markdown",
      "source": [
        "# Creating a keras model"
      ]
    },
    {
      "metadata": {
        "colab_type": "code",
        "id": "LUn4anm04QQ2",
        "colab": {},
        "outputId": "3576d797-4f70-4e55-d29a-2dd2951c9182"
      },
      "cell_type": "code",
      "source": [
        "import numpy as np\n",
        "from keras.models import Sequential\n",
        "from keras.layers import Dense\n",
        "import pandas as pd"
      ],
      "execution_count": 0,
      "outputs": []
    },
    {
      "metadata": {
        "colab_type": "code",
        "id": "s-TIfmWX4QQ7",
        "colab": {}
      },
      "cell_type": "code",
      "source": [
        "dataset =pd.read_csv('hourly_wages.csv')"
      ],
      "execution_count": 0,
      "outputs": []
    },
    {
      "metadata": {
        "colab_type": "code",
        "id": "-gPkhkCi4QQ_",
        "outputId": "099241d1-4a0f-4a74-ace6-fb0d073952c2",
        "colab": {}
      },
      "cell_type": "code",
      "source": [
        "dataset.head()"
      ],
      "execution_count": 0,
      "outputs": []
    },
    {
      "metadata": {
        "colab_type": "code",
        "id": "rjj3BmAo4QRE",
        "colab": {}
      },
      "cell_type": "code",
      "source": [
        "target = dataset.wage_per_hour"
      ],
      "execution_count": 0,
      "outputs": []
    },
    {
      "metadata": {
        "colab_type": "code",
        "id": "2MsG_Xyg4QRI",
        "outputId": "bacdd1e5-7d52-403c-f911-f537c6a68bdd",
        "colab": {}
      },
      "cell_type": "code",
      "source": [
        "len(target)"
      ],
      "execution_count": 0,
      "outputs": []
    },
    {
      "metadata": {
        "colab_type": "code",
        "id": "YHFyJwAL4QRM",
        "colab": {}
      },
      "cell_type": "code",
      "source": [
        "predictor = dataset.drop(['wage_per_hour'],axis=1)"
      ],
      "execution_count": 0,
      "outputs": []
    },
    {
      "metadata": {
        "id": "fkNnd6EscUcu",
        "colab_type": "code",
        "colab": {},
        "outputId": "939856c1-b54f-48e5-b489-837a2801461d"
      },
      "cell_type": "code",
      "source": [
        "predictor.shape"
      ],
      "execution_count": 0,
      "outputs": []
    },
    {
      "metadata": {
        "colab_type": "code",
        "id": "JZwFX-sb4QRQ",
        "colab": {}
      },
      "cell_type": "code",
      "source": [
        "n_cols = predictor.shape[1]"
      ],
      "execution_count": 0,
      "outputs": []
    },
    {
      "metadata": {
        "colab_type": "code",
        "id": "TykzDBcT4QRW",
        "outputId": "9bdd5d80-62b1-4439-b7e6-6e6fdf968a0e",
        "colab": {}
      },
      "cell_type": "code",
      "source": [
        "n_cols"
      ],
      "execution_count": 0,
      "outputs": []
    },
    {
      "metadata": {
        "colab_type": "code",
        "id": "J79y5LB54QRb",
        "outputId": "1c0e124c-3efa-4c1e-f3e2-8a76163deb07",
        "colab": {}
      },
      "cell_type": "code",
      "source": [
        "predictor.shape"
      ],
      "execution_count": 0,
      "outputs": []
    },
    {
      "metadata": {
        "colab_type": "code",
        "id": "ZTLWgVB94QRk",
        "outputId": "54afbc4e-0bfe-4d02-fb20-7db58a55e871",
        "colab": {}
      },
      "cell_type": "code",
      "source": [
        "predictor.head()"
      ],
      "execution_count": 0,
      "outputs": []
    },
    {
      "metadata": {
        "colab_type": "code",
        "id": "Wuf97LYI4QRr",
        "outputId": "f7da194f-fe29-4330-de7f-e648e3f17113",
        "colab": {}
      },
      "cell_type": "code",
      "source": [
        "target.head()"
      ],
      "execution_count": 0,
      "outputs": []
    },
    {
      "metadata": {
        "colab_type": "code",
        "id": "YGtyGBko4QRx",
        "outputId": "b6878e94-5fd3-485a-ca26-0b782e139aa8",
        "colab": {}
      },
      "cell_type": "code",
      "source": [
        "target.shape"
      ],
      "execution_count": 0,
      "outputs": []
    },
    {
      "metadata": {
        "colab_type": "text",
        "id": "RuX-YJOm4QQ0"
      },
      "cell_type": "markdown",
      "source": [
        "## Model building steps\n",
        "* Specify Architecture\n",
        "* Compile\n",
        "* Fit\n",
        "* Predict"
      ]
    },
    {
      "metadata": {
        "colab_type": "code",
        "id": "GxNfnDV64QR2",
        "colab": {}
      },
      "cell_type": "code",
      "source": [
        "model = Sequential()\n",
        "model.add(Dense(20, activation='relu', input_shape = (n_cols,)))\n",
        "model.add(Dense(20, activation='relu'))\n",
        "model.add(Dense(5, activation='relu'))\n",
        "model.add(Dense(1))"
      ],
      "execution_count": 0,
      "outputs": []
    },
    {
      "metadata": {
        "colab_type": "text",
        "id": "0hawyey65Mu6"
      },
      "cell_type": "markdown",
      "source": [
        "## Why you need to compile your model\n",
        "* Specify the optimizer\n",
        "  * Many options and mathematically complex\n",
        "  * “Adam” is usually a good choice\n",
        "* Loss function\n",
        "  * “mean_squared_error” common for regression"
      ]
    },
    {
      "metadata": {
        "colab_type": "code",
        "id": "igCZKtIl4QR6",
        "colab": {}
      },
      "cell_type": "code",
      "source": [
        "# Compile the model\n",
        "model.compile(optimizer='adam', loss='mean_squared_error')"
      ],
      "execution_count": 0,
      "outputs": []
    },
    {
      "metadata": {
        "colab_type": "text",
        "id": "QKkHd7uH-Naj"
      },
      "cell_type": "markdown",
      "source": [
        "## What is fiting a model\n",
        "* Applying backpropagation and gradient descent with your data to update the weights\n",
        "* Scaling data before fiting can ease optimization"
      ]
    },
    {
      "metadata": {
        "colab_type": "code",
        "id": "hmzr1qMQ4QSE",
        "outputId": "3f192320-8316-4052-8d53-d157cf2713ed",
        "colab": {}
      },
      "cell_type": "code",
      "source": [
        "# Fit the model\n",
        "model.fit(predictor, target, epochs=20)"
      ],
      "execution_count": 0,
      "outputs": []
    },
    {
      "metadata": {
        "colab_type": "code",
        "id": "iTXMC_0w-ecl",
        "colab": {}
      },
      "cell_type": "code",
      "source": [
        ""
      ],
      "execution_count": 0,
      "outputs": []
    }
  ]
}